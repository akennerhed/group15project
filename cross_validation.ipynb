{
 "cells": [
  {
   "cell_type": "code",
   "execution_count": 4,
   "metadata": {},
   "outputs": [],
   "source": [
    "import pandas as pd\n",
    "import numpy as np"
   ]
  },
  {
   "cell_type": "code",
   "execution_count": null,
   "metadata": {},
   "outputs": [
    {
     "name": "stdout",
     "output_type": "stream",
     "text": [
      "                day  PSS_score  Openness  Conscientiousness  Extraversion  \\\n",
      "participant_id                                                              \n",
      "1                 1         34  2.322732           4.332193      1.185878   \n",
      "1                 2         37  1.761436           3.254120      3.907281   \n",
      "1                 3         30  3.025887           1.855002      2.045900   \n",
      "1                 4         16  1.948370           4.966676      3.345225   \n",
      "1                 5         32  3.343484           2.065936      3.137843   \n",
      "...             ...        ...       ...                ...           ...   \n",
      "100              26         30  2.529821           2.339608      1.321208   \n",
      "100              27         33  1.319100           4.500507      4.816983   \n",
      "100              28         30  1.899102           3.930147      4.047799   \n",
      "100              29         28  1.472408           1.712893      1.245082   \n",
      "100              30         10  3.152789           3.633976      2.387994   \n",
      "\n",
      "                Agreeableness  Neuroticism  sleep_time  wake_time  \\\n",
      "participant_id                                                      \n",
      "1                    1.570213     3.782094    7.726792   5.190660   \n",
      "1                    4.072512     1.997145    7.312674   6.170717   \n",
      "1                    2.317493     3.619225    6.992060   5.318825   \n",
      "1                    1.607756     3.583524    8.886914   8.061075   \n",
      "1                    2.118061     2.567347    7.811705   7.312145   \n",
      "...                       ...          ...         ...        ...   \n",
      "100                  4.204331     4.890738    8.823033   8.703758   \n",
      "100                  2.416180     4.195933    5.260243   5.890244   \n",
      "100                  3.163160     2.559401    6.425568   7.978066   \n",
      "100                  4.187222     4.558563    5.453843   8.859173   \n",
      "100                  3.853524     1.147076    5.270021   6.658582   \n",
      "\n",
      "                sleep_duration  PSQI_score  call_duration  num_calls  num_sms  \\\n",
      "participant_id                                                                  \n",
      "1                     6.572069           1       3.924527         12       32   \n",
      "1                     8.030168           4      58.318004          3       41   \n",
      "1                     7.102420           1       4.941043          4       48   \n",
      "1                     8.123294           3       0.295373         11       38   \n",
      "1                     7.785143           3      22.300571         17       17   \n",
      "...                        ...         ...            ...        ...      ...   \n",
      "100                   8.661936           2      59.106125          0        1   \n",
      "100                   6.456058           4      56.137068         12       17   \n",
      "100                   7.188921           3      58.102473         13       21   \n",
      "100                   7.355107           4      44.220070         17       10   \n",
      "100                   7.090551           4      36.342934         16       47   \n",
      "\n",
      "                screen_on_time  skin_conductance  accelerometer  \\\n",
      "participant_id                                                    \n",
      "1                    10.703714          3.115730       0.161717   \n",
      "1                    11.012939          0.959144       0.985587   \n",
      "1                     4.877372          3.311629       1.877445   \n",
      "1                     3.462956          0.625721       0.494921   \n",
      "1                     4.861046          0.622609       1.342600   \n",
      "...                        ...               ...            ...   \n",
      "100                  11.339248          4.045863       1.694037   \n",
      "100                  10.694380          2.169768       1.657737   \n",
      "100                   8.646478          4.995654       1.046666   \n",
      "100                   4.086836          4.897873       1.605314   \n",
      "100                   7.399881          3.279636       2.130984   \n",
      "\n",
      "                mobility_radius  mobility_distance  \n",
      "participant_id                                      \n",
      "1                      1.145179           2.196851  \n",
      "1                      1.021133           0.737825  \n",
      "1                      0.478179           0.911673  \n",
      "1                      0.630549           3.911418  \n",
      "1                      0.254090           1.605132  \n",
      "...                         ...                ...  \n",
      "100                    0.859401           4.123621  \n",
      "100                    0.108480           2.242326  \n",
      "100                    0.508623           2.088313  \n",
      "100                    0.444716           4.741065  \n",
      "100                    1.347205           4.191338  \n",
      "\n",
      "[3000 rows x 19 columns]\n"
     ]
    }
   ],
   "source": [
    "df = pd.read_csv(\"stress_detection.csv\", index_col=0)\n",
    "# df.describe().T\n",
    "print(df)"
   ]
  },
  {
   "cell_type": "code",
   "execution_count": null,
   "metadata": {},
   "outputs": [
    {
     "name": "stdout",
     "output_type": "stream",
     "text": [
      "Train size: 2400\n",
      "Validation size: 300\n",
      "Test size: 300\n"
     ]
    }
   ],
   "source": [
    "# Get unique participant IDs\n",
    "unique_ids = df.index.unique()\n",
    "\n",
    "# Shuffle the IDs\n",
    "np.random.seed(0) # Not truly random!\n",
    "shuffled_ids = np.random.permutation(unique_ids)\n",
    "\n",
    "# Split the IDs\n",
    "n_train = int(len(shuffled_ids) * 0.8)\n",
    "n_val = int(len(shuffled_ids) * 0.1)\n",
    "n_test = len(shuffled_ids) - n_train - n_val\n",
    "\n",
    "train_ids = shuffled_ids[:n_train]\n",
    "val_ids = shuffled_ids[n_train:n_train + n_val]\n",
    "test_ids = shuffled_ids[n_train + n_val:]\n",
    "\n",
    "# Filter rows by IDs\n",
    "train_data = df[df.index.isin(train_ids)]\n",
    "val_data = df[df.index.isin(val_ids)]\n",
    "test_data = df[df.index.isin(test_ids)]\n",
    "\n",
    "# Print sizes\n",
    "print(f\"Train size: {len(train_data)}\")\n",
    "print(f\"Validation size: {len(val_data)}\")\n",
    "print(f\"Test size: {len(test_data)}\")"
   ]
  }
 ],
 "metadata": {
  "kernelspec": {
   "display_name": "geocat",
   "language": "python",
   "name": "python3"
  },
  "language_info": {
   "codemirror_mode": {
    "name": "ipython",
    "version": 3
   },
   "file_extension": ".py",
   "mimetype": "text/x-python",
   "name": "python",
   "nbconvert_exporter": "python",
   "pygments_lexer": "ipython3",
   "version": "3.11.8"
  }
 },
 "nbformat": 4,
 "nbformat_minor": 2
}
