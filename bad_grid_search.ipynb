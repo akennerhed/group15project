{
 "cells": [
  {
   "cell_type": "code",
   "execution_count": null,
   "metadata": {},
   "outputs": [],
   "source": [
    "decrease_values = np.arange(0.01, 1, 0.01)\n",
    "\n",
    "param_grid = {\n",
    "    'max_depth': range(1, 21),\n",
    "    'min_impurity_decrease' : list(decrease_values)\n",
    "}\n",
    "\n",
    "dt = DecisionTreeRegressor(criterion='squared_error')\n",
    "\n",
    "grid_search = GridSearchCV(\n",
    "    estimator=dt,\n",
    "    param_grid=param_grid,\n",
    "    cv=5,\n",
    "    scoring='neg_mean_squared_error',\n",
    "    n_jobs=-1 \n",
    ")\n",
    "\n",
    "grid_search.fit(X, y)\n",
    "\n",
    "print(\"Best parameters:\", grid_search.best_params_)\n",
    "print(\"Best negative MSE:\", grid_search.best_score_)"
   ]
  }
 ],
 "metadata": {
  "language_info": {
   "name": "python"
  }
 },
 "nbformat": 4,
 "nbformat_minor": 2
}
